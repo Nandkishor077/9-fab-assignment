{
 "cells": [
  {
   "cell_type": "raw",
   "id": "7807455f-204d-4203-9b71-8d1392ef0c02",
   "metadata": {},
   "source": [
    "Q1. Create a vehicle class with an init method having instance variables as name_of_vehicle, max_speed\n",
    "and average_of_vehicle."
   ]
  },
  {
   "cell_type": "code",
   "execution_count": 1,
   "id": "9ef2ead6-6e48-4344-9453-d0e1a8c9f15d",
   "metadata": {},
   "outputs": [],
   "source": [
    "class vehicle :\n",
    "    def __init__(self, name_of_vehicle,max_speed,average_of_vehicle):\n",
    "        self.name_of_vehicle =  name_of_vehicle\n",
    "        self.max_speed = max_speed\n",
    "        self.average_of_vehicle = average_of_vehicle"
   ]
  },
  {
   "cell_type": "raw",
   "id": "c77552e6-7cfb-4b52-9a7e-fc1b1f52b641",
   "metadata": {},
   "source": [
    "Q2. Create a child class car from the vehicle class created in Que 1, which will inherit the vehicle class.\n",
    "Create a method named seating_capacity which takes capacity as an argument and returns the name of\n",
    "the vehicle and its seating capacity."
   ]
  },
  {
   "cell_type": "code",
   "execution_count": 12,
   "id": "d1d5e655-69a2-483b-b027-4b9db7088a4b",
   "metadata": {},
   "outputs": [
    {
     "data": {
      "text/plain": [
       "('the seating capacity of ', 'bus', 'is', 100)"
      ]
     },
     "execution_count": 12,
     "metadata": {},
     "output_type": "execute_result"
    }
   ],
   "source": [
    "class vehicle :\n",
    "    def __init__(self, name_of_vehicle,max_speed,average_of_vehicle):\n",
    "        self.name_of_vehicle =  name_of_vehicle\n",
    "        self.max_speed = max_speed\n",
    "        self.average_of_vehicle = average_of_vehicle\n",
    "\n",
    "class car(vehicle) :\n",
    "    def seating_capacity(self,seating_capacity):\n",
    "        self.seating_capacity = seating_capacity\n",
    "        return \"the seating capacity of \",self.name_of_vehicle ,\"is\",self.seating_capacity\n",
    "    \n",
    "car_obj = car('bus',60,30)\n",
    "car_obj.seating_capacity(100)\n",
    "    \n",
    "    "
   ]
  },
  {
   "cell_type": "raw",
   "id": "b2265fcd-c7b0-4d9f-b72b-d3a311aeac86",
   "metadata": {},
   "source": [
    "Q3. What is multiple inheritance? Write a python code to demonstrate multiple inheritance."
   ]
  },
  {
   "cell_type": "raw",
   "id": "619a43c5-8264-4d26-8189-298f3e4ca7ff",
   "metadata": {},
   "source": [
    "Ans.A class can be derived from more than one superclass in Python. This is called multiple inheritance."
   ]
  },
  {
   "cell_type": "code",
   "execution_count": 16,
   "id": "fb1fda60-ef13-47ef-b878-f02ad2a6b465",
   "metadata": {},
   "outputs": [
    {
     "name": "stdout",
     "output_type": "stream",
     "text": [
      "in class1\n",
      "in class2 \n"
     ]
    }
   ],
   "source": [
    "class class1 :\n",
    "    def met1(self):\n",
    "        print(\"in class1\" )\n",
    "              \n",
    "class class2 :\n",
    "    def met2(self):\n",
    "        print(\"in class2 \")\n",
    "              \n",
    "class class3(class1 , class2):\n",
    "              pass\n",
    "obj = class3()\n",
    "obj.met1()\n",
    "obj.met2()"
   ]
  },
  {
   "cell_type": "raw",
   "id": "ddb87e34-2f47-4688-b9e7-c4e232f7d861",
   "metadata": {},
   "source": [
    "Q4. What are getter and setter in python? Create a class and create a getter and a setter method in this\n",
    "class."
   ]
  },
  {
   "cell_type": "raw",
   "id": "838f026b-9500-459d-9d8c-bb3b79457682",
   "metadata": {},
   "source": [
    "Ans.In Python, getters and setters are not the same as those in other object-oriented programming languages. Basically, the main purpose of using getters and setters in object-oriented programs is to ensure data encapsulation\n",
    "Getters and Setters in python are often used when:\n",
    "We use getters & setters to add validation logic around getting and setting a value also to avoid direct access of a class field i.e. private variables cannot be accessed directly or modified by external user."
   ]
  },
  {
   "cell_type": "code",
   "execution_count": 18,
   "id": "d56dedf3-91b6-49e2-ba0a-773962c104f3",
   "metadata": {},
   "outputs": [
    {
     "data": {
      "text/plain": [
       "30"
      ]
     },
     "execution_count": 18,
     "metadata": {},
     "output_type": "execute_result"
    }
   ],
   "source": [
    "class demo:\n",
    "    def __init__(self,age=0):\n",
    "        self.age = age\n",
    "    def get_age(self):\n",
    "        return self.age\n",
    "    def set_age(self , age):\n",
    "        self.age = age\n",
    "obj = demo()\n",
    "obj.set_age(30)\n",
    "obj.get_age()"
   ]
  },
  {
   "cell_type": "raw",
   "id": "cd9d04d9-160b-420a-9123-17c7e3cf676c",
   "metadata": {},
   "source": [
    "Q5.What is method overriding in python? Write a python code to demonstrate method overriding."
   ]
  },
  {
   "cell_type": "raw",
   "id": "46635676-73f4-45bc-a53d-3ee04c51dce8",
   "metadata": {},
   "source": [
    "Ans.Method overriding is an ability of any object-oriented programming language that allows a subclass or child class to provide a specific implementation of a method that is already provided by one of its super-classes or parent classes. When a method in a subclass has the same name, same parameters or signature and same return type(or sub-type) as a method in its super-class, then the method in the subclass is said to override the method in the super-class."
   ]
  },
  {
   "cell_type": "code",
   "execution_count": 20,
   "id": "2b696584-1a15-4f40-a2f1-93109c044afb",
   "metadata": {},
   "outputs": [
    {
     "name": "stdout",
     "output_type": "stream",
     "text": [
      "inside parent\n",
      "inside child\n"
     ]
    }
   ],
   "source": [
    "class Parent():\n",
    "    def __init__(self):\n",
    "        self.value = \"inside parent\"\n",
    "    def show(self):\n",
    "        print(self.value)\n",
    "        \n",
    "class Child(Parent):\n",
    "    def __init__(self):\n",
    "        self.value = \"inside child\"\n",
    "    def show(self):\n",
    "        print(self.value)\n",
    "        \n",
    "obj1 = Parent()\n",
    "obj2 = Child()\n",
    "obj1.show()\n",
    "obj2.show()\n"
   ]
  },
  {
   "cell_type": "code",
   "execution_count": null,
   "id": "c09fbd99-01d6-4d05-860e-1a51e1f900bd",
   "metadata": {},
   "outputs": [],
   "source": []
  }
 ],
 "metadata": {
  "kernelspec": {
   "display_name": "Python 3 (ipykernel)",
   "language": "python",
   "name": "python3"
  },
  "language_info": {
   "codemirror_mode": {
    "name": "ipython",
    "version": 3
   },
   "file_extension": ".py",
   "mimetype": "text/x-python",
   "name": "python",
   "nbconvert_exporter": "python",
   "pygments_lexer": "ipython3",
   "version": "3.10.8"
  }
 },
 "nbformat": 4,
 "nbformat_minor": 5
}
